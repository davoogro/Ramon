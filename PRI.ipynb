{
 "cells": [
  {
   "cell_type": "code",
   "execution_count": 2,
   "id": "312208fe-6560-4dfd-b774-33219c99b519",
   "metadata": {},
   "outputs": [],
   "source": [
    "import glob\n",
    "import sys\n",
    "import pandas as pd\n",
    "import sqlalchemy"
   ]
  },
  {
   "cell_type": "code",
   "execution_count": 3,
   "id": "13d42f9e-9945-4e85-9330-6fad6e6ee706",
   "metadata": {},
   "outputs": [],
   "source": [
    "host1='analiticabdcsj.postgres.database.azure.com'\n",
    "database1= \"postgres\"\n",
    "user1=\"pgadmin\"\n",
    "password1=\"C0nS3J02022*\"\n",
    "\n",
    "postg = sqlalchemy.create_engine(\"postgresql://pgadmin:\"+password1+\"@\"+host1+\":5432/\"+database1)\n",
    "conpost=postg.connect()"
   ]
  },
  {
   "cell_type": "code",
   "execution_count": null,
   "id": "793537ef-2d4d-4d7b-a53c-9165574cb6cf",
   "metadata": {},
   "outputs": [],
   "source": [
    "a=sys.argv[1]\n",
    "filename=sys.argv[2]\n",
    "size=sys.argv[3]\n",
    "\n",
    "df=pd.DataFrame()"
   ]
  },
  {
   "cell_type": "code",
   "execution_count": null,
   "id": "809b619e-47af-4cfa-82ce-bf0b27fb35d9",
   "metadata": {},
   "outputs": [],
   "source": [
    "n=[a]\n",
    "m=[filename]\n",
    "s=[size]\n",
    "\n",
    "df['filename']=n\n",
    "df['path']=m\n",
    "df['size']=s"
   ]
  },
  {
   "cell_type": "code",
   "execution_count": null,
   "id": "355d2f77-59d2-472a-8e6d-d0e94ae5907e",
   "metadata": {},
   "outputs": [],
   "source": [
    "df.to_sql(name='nifitest', con=postg, if_exists='append', schema='pridata', index=False,index_label=None)"
   ]
  }
 ],
 "metadata": {
  "kernelspec": {
   "display_name": "Python 3 (ipykernel)",
   "language": "python",
   "name": "python3"
  },
  "language_info": {
   "codemirror_mode": {
    "name": "ipython",
    "version": 3
   },
   "file_extension": ".py",
   "mimetype": "text/x-python",
   "name": "python",
   "nbconvert_exporter": "python",
   "pygments_lexer": "ipython3",
   "version": "3.10.7"
  }
 },
 "nbformat": 4,
 "nbformat_minor": 5
}
